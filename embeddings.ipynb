{
 "cells": [
  {
   "cell_type": "code",
   "execution_count": null,
   "metadata": {},
   "outputs": [],
   "source": [
    "import pandas as pd\n",
    "import numpy as np\n",
    "import rdflib\n",
    "import pykeen\n",
    "from pykeen.triples import TriplesFactory\n",
    "from pykeen.pipeline import pipeline"
   ]
  },
  {
   "cell_type": "markdown",
   "metadata": {},
   "source": [
    "## Loading knowledge graph"
   ]
  },
  {
   "cell_type": "code",
   "execution_count": null,
   "metadata": {},
   "outputs": [],
   "source": [
    "reference_knowledge_graph = rdflib.Graph()\n",
    "reference_knowledge_graph.parse(\"data/reference-kg.nt\")\n",
    "\n",
    "reference_knowledge_graph_trimmed = rdflib.Graph()\n",
    "reference_knowledge_graph_trimmed.parse(\"data/reference-kg-1000.nt\")"
   ]
  },
  {
   "cell_type": "markdown",
   "metadata": {},
   "source": [
    "## Converting to pykeen format"
   ]
  },
  {
   "cell_type": "code",
   "execution_count": null,
   "metadata": {},
   "outputs": [],
   "source": [
    "reference_data_numpy = np.array([(s, p, o) for s, p, o in reference_knowledge_graph])\n",
    "reference_data_pykeen = TriplesFactory.from_labeled_triples(reference_data_numpy)\n",
    "reference_data_pykeen.create_inverse_triples = True"
   ]
  },
  {
   "cell_type": "markdown",
   "metadata": {},
   "source": [
    "## Learning the embeddings"
   ]
  },
  {
   "cell_type": "code",
   "execution_count": null,
   "metadata": {},
   "outputs": [],
   "source": [
    "training, testing, validation = reference_data_pykeen.split([0.8, 0.1, 0.1])\n",
    "result = pipeline(\n",
    "    training=training,\n",
    "    testing=testing,\n",
    "    validation=validation,\n",
    "    model='TransE',\n",
    ")\n",
    "\n",
    "result.save_to_directory()"
   ]
  }
 ],
 "metadata": {
  "kernelspec": {
   "display_name": ".venv",
   "language": "python",
   "name": "python3"
  },
  "language_info": {
   "codemirror_mode": {
    "name": "ipython",
    "version": 3
   },
   "file_extension": ".py",
   "mimetype": "text/x-python",
   "name": "python",
   "nbconvert_exporter": "python",
   "pygments_lexer": "ipython3",
   "version": "3.11.10"
  }
 },
 "nbformat": 4,
 "nbformat_minor": 2
}
